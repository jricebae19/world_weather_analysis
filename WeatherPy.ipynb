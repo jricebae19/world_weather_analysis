{
 "cells": [
  {
   "cell_type": "code",
   "execution_count": 15,
   "metadata": {},
   "outputs": [],
   "source": [
    "#Import dependencies\n",
    "import pandas as pd\n",
    "import numpy as np\n",
    "import matplotlib.pyplot as plt"
   ]
  },
  {
   "cell_type": "code",
   "execution_count": 16,
   "metadata": {},
   "outputs": [
    {
     "data": {
      "text/plain": [
       "<zip at 0x1bd5070f108>"
      ]
     },
     "execution_count": 16,
     "metadata": {},
     "output_type": "execute_result"
    }
   ],
   "source": [
    "#Create a set of random latitude and longitude combinations\n",
    "lats = np.random.uniform(low=-90.000, high=90.000, size = 1500)\n",
    "lngs = np.random.uniform(low=-90.000, high=90.000, size = 1500)\n",
    "lat_lngs = zip(lats, lngs)\n",
    "lat_lngs"
   ]
  },
  {
   "cell_type": "code",
   "execution_count": 17,
   "metadata": {},
   "outputs": [],
   "source": [
    "#Add the latitudes and longitudes to a list.\n",
    "coordinates = list(lat_lngs)"
   ]
  },
  {
   "cell_type": "code",
   "execution_count": 18,
   "metadata": {},
   "outputs": [],
   "source": [
    "from citipy import citipy"
   ]
  },
  {
   "cell_type": "code",
   "execution_count": 19,
   "metadata": {},
   "outputs": [
    {
     "data": {
      "text/plain": [
       "625"
      ]
     },
     "execution_count": 19,
     "metadata": {},
     "output_type": "execute_result"
    }
   ],
   "source": [
    "# Create a list for holding the cities.\n",
    "cities = []\n",
    "# Identify the nearest city for each latitude and longitude combination.\n",
    "for coordinate in coordinates:\n",
    "    city = citipy.nearest_city(coordinate[0], coordinate[1]).city_name\n",
    "\n",
    "    # If the city is unique, then we will add it to the cities list.\n",
    "    if city not in cities:\n",
    "        cities.append(city)\n",
    "# Print the city count to confirm sufficient count.\n",
    "len(cities)"
   ]
  },
  {
   "cell_type": "code",
   "execution_count": 20,
   "metadata": {},
   "outputs": [
    {
     "name": "stdout",
     "output_type": "stream",
     "text": [
      "['castro', 'ushuaia', 'cidreira', 'sadovoye', 'ust-ishim', 'port alfred', 'ilulissat', 'jamestown', 'coihaique', 'salalah', 'hermanus', 'berlevag', 'port elizabeth', 'illoqqortoormiut', 'touros', 'bredasdorp', 'mar del plata', 'qaanaaq', 'corn island', 'cibitoke', 'tucuman', 'husavik', 'korla', 'skibbereen', 'florida', 'nador', 'toul', 'bargal', 'grao mogol', 'dikson', 'cape town', 'hithadhoo', 'cap malheureux', 'attawapiskat', 'grand gaube', 'wukari', 'bambous virieux', 'el balyana', 'upernavik', 'natal', 'grand river south east', 'amderma', 'victoria', 'london', 'pisco', 'vila franca do campo', 'umzimvubu', 'nanortalik', 'narsaq', 'itarema', 'necochea', 'semey', 'lodja', 'dolbeau', 'lucapa', 'tambo', 'huarmey', 'arraial do cabo', 'anna paulowna', 'tasiilaq', 'bathsheba', 'georgetown', 'ikryanoye', 'clyde river', 'vestmannaeyjar', 'kampene', 'hambantota', 'lovozero', 'taolanaro', 'busselton', 'kruisfontein', 'stornoway', 'namibe', 'muravlenko', 'sao filipe', 'honningsvag', 'albany', 'bongandanga', 'tsabong', 'rincon', 'buncrana', 'hofn', 'roald', 'marcona', 'umm lajj', 'doctor pedro p. pena', 'rottingdean', 'havelock', 'cravo norte', 'belushya guba', 'ponta do sol', 'beni mazar', 'doha', 'punta arenas', 'novoagansk', 'ambilobe', 'karauzyak', 'east london', 'asyut', 'rockland', 'endicott', 'marsa matruh', 'warri', 'vardo', 'oistins', 'mongoumba', 'troitsk', 'mitsamiouli', 'nouadhibou', 'butajira', 'kaduqli', 'guider', 'rovnoye', 'rock hill', 'chuy', 'torbay', 'saint-philippe', 'whitehaven', 'filadelfia', 'malwan', 'santa cruz', 'tandil', 'barentsburg', 'codrington', 'marienburg', 'peniche', 'urucara', 'jilib', 'guanica', 'nieuw amsterdam', 'kondinskoye', 'ribeira grande', 'laguna', 'rudnichnyy', 'mangrol', 'vorontsovka', 'sinnamary', 'burica', 'sechura', 'yar-sale', 'cayenne', 'talas', 'pangnirtung', 'doka', 'mandya', 'longyearbyen', 'sorland', 'los llanos de aridane', 'beyneu', 'ancud', 'yangambi', 'bonito', 'mount vernon', 'pointe michel', 'grindavik', 'arona', 'sao felix do xingu', 'long beach', 'sabla', 'irgakly', 'nabinagar', 'sao miguel do araguaia', 'hatta', 'qaqortoq', 'quatre cocos', 'qandahar', 'tazovskiy', 'guasdualito', 'ilo', 'alta floresta', 'mandera', 'warqla', 'maine-soroa', 'cabildo', 'cockburn town', 'anloga', 'makaryev', 'adrar', 'iqaluit', 'iisaku', 'butembo', 'sao gabriel', 'santa eulalia del rio', 'bandarbeyla', 'san cristobal', 'tasbuget', 'east massapequa', 'saldanha', 'omboue', 'karpathos', 'coquimbo', 'rawson', 'saint-francois', 'lagoa', 'piet retief', 'boa vista', 'ravar', 'ust-kulom', 'vila do maio', 'ust-tsilma', 'andenes', 'souillac', 'torbat-e jam', 'marzuq', 'wajir', 'general pico', 'mana', 'nuuk', 'port shepstone', 'nosy varika', 'abu dhabi', 'opobo', 'aleksandrov gay', 'bur gabo', 'kiruna', 'halifax', 'saint-pierre', 'chikola', 'bolu', 'tarko-sale', 'nicoya', 'shibarghan', 'puerto suarez', 'wenchi', 'bengkulu', 'lalibela', 'louis trichardt', 'tsihombe', 'kuche', 'hobyo', 'ngama', 'sistranda', 'balkhash', 'mahebourg', 'dusti', 'orsk', 'neya', 'achisay', 'kathu', 'constantine', 'niquelandia', 'terekli-mekteb', 'thompson', 'borlange', 'gamba', 'sumbe', 'bom jardim', 'faya', 'santa rosa de viterbo', 'priladozhskiy', 'torquay', 'lima', 'margate', 'uwayl', 'samarkand', 'koslan', 'puerto carreno', 'mehamn', 'jijiga', 'viedma', 'bolungarvik', 'xai-xai', 'kilis', 'altamira', 'mosquera', 'matara', 'umm kaddadah', 'talagang', 'pinega', 'cottbus', 'mahon', 'chipoka', 'rye', 'wattegama', 'wagar', 'iquitos', 'khorramshahr', 'gazojak', 'scottsburgh', 'general roca', 'timbiras', 'mrirt', 'iquique', 'constitucion', 'itainopolis', 'shar', 'ruwi', 'luderitz', 'virginia beach', 'belyy yar', 'moen', 'skagastrond', 'sisimiut', 'kpandae', 'najran', 'severnoye', 'solovetskiy', 'sur', 'jepelacio', 'gescher', 'bahia blanca', 'salinopolis', 'liverpool', 'sao joao da barra', 'bolshiye uki', 'lebu', 'bethanien', 'hauterive', 'kisangani', 'gijon', 'mpanda', 'port-cartier', 'chepo', 'acari', 'jadu', 'macae', 'ondjiva', 'santa fe', 'szigetvar', 'wahran', 'bealanana', 'canavieiras', 'sonqor', 'sao gabriel da cachoeira', 'great yarmouth', 'manaure', 'chicama', 'oktyabrskiy', 'tucano', 'veraval', 'mucurapo', 'aromashevo', 'yalova', 'caravelas', 'khor', 'longonjo', 'apiai', 'tshela', 'dungarpur', 'saint-augustin', 'corrente', 'turiacu', 'geraldton', 'saint george', 'mandali', 'ubinskoye', 'harper', 'kungur', 'kasane', 'sao domingos', 'nanyamba', 'kavaratti', 'manono', 'bayeux', 'conchas', 'baghdad', 'black river', 'potsdam', 'olafsvik', 'iranshahr', 'charagua', 'chupa', 'santo antonio do ica', 'mahenge', 'aprilia', 'marystown', 'kharp', 'camopi', 'sept-iles', 'kargopol', 'igarapava', 'vammala', 'moose factory', 'grand-lahou', 'mizdah', 'thunder bay', 'klaksvik', 'issoire', 'rovaniemi', 'richards bay', 'jaru', 'svetlyy', 'volterra', 'asfi', 'tromso', 'tazmalt', 'portobelo', 'riyadh', 'pervomayskoye', 'cabo rojo', 'nara', 'brae', 'cockburn harbour', 'thinadhoo', 'birao', 'envira', 'barawe', 'tessalit', 'saveh', 'talnakh', 'louisbourg', 'shambu', 'carutapera', 'mbandaka', 'daosa', 'rundu', 'den helder', 'funtua', 'gweta', 'buraydah', 'kosonsoy', 'eidsvag', 'dobrinka', 'usinsk', 'praia da vitoria', 'san juan', 'ostrovnoy', 'jalu', 'dudinka', 'goderich', 'tabarqah', 'agva', 'camapua', 'toliary', 'jiwani', 'flers', 'the valley', 'iskateley', 'kargasok', 'yashkul', 'camacha', 'turkan', 'sidi bu zayd', 'azangaro', 'lamu', 'mantua', 'garowe', 'buy', 'pyaozerskiy', 'oltu', 'skalistyy', 'kunya', 'pocone', 'kutum', 'muros', 'tucurui', 'mabaruma', 'axim', 'marigot', 'lesnica', 'chapais', 'carbonia', 'manacapuru', 'igrim', 'khuzdar', 'estelle', 'andevoranto', 'pio xii', 'rio gallegos', 'synya', 'saint anthony', 'bilma', 'hamilton', 'arras', 'mezen', 'tumannyy', 'guadalajara', 'mount pleasant', 'praia', 'zaysan', 'karaul', 'karwar', 'alto araguaia', 'barbar', 'vila velha', 'ekuvukeni', 'volokonovka', 'tamasane', 'san lorenzo', 'zarasai', 'trairi', 'rajapur', 'paamiut', 'atar', 'turukhansk', 'arcos de la frontera', 'pitimbu', 'nagod', 'ghorawal', 'manicore', 'kamenka', 'kathmandu', 'sayyan', 'tambul', 'strezhevoy', 'crotone', 'sompeta', 'manaus', 'new smyrna beach', 'takoradi', 'pleshanovo', 'antofagasta', 'trinidad', 'batsfjord', 'sotik', 'safwah', 'isiro', 'mbuguni', 'nisia floresta', 'zinder', 'wolmaranstad', 'treinta y tres', 'adre', 'gzhatsk', 'bubaque', 'sarakhs', 'sakakah', 'boca do acre', 'berbera', 'nizwa', 'malindi', 'harlingen', 'uvinza', 'saint-paul', 'rio branco do sul', 'grenada', 'beloha', 'timra', 'kuybysheve', 'kudahuvadhoo', 'san rafael del sur', 'kothapet', 'gulshat', 'rio pardo', 'tutoia', 'puerto ayora', 'marawi', 'garango', 'inongo', 'witu', 'inhambane', 'assai', 'santa isabel do rio negro', 'skjervoy', 'danville', 'oprisor', 'khristoforovo', 'rabat', 'alenquer', 'abha', 'pailon', 'coello', 'jiddah', 'kalabo', 'zharkent', 'yarada', 'ribeira brava', 'srivardhan', 'gogrial', 'bella union', 'cartagena', 'fuerte olimpo', 'abeche', 'rafai', 'santa cruz del sur', 'amapa', 'arroyo', 'mahanje', 'zlobin', 'hualmay', 'san pedro', 'voyvozh', 'angra', 'dubai', 'kleck', 'sao jose da coroa grande', 'bonfim', 'palanga', 'turayf', 'dingle', 'eyl', 'barcelos', 'soloneshnoye', 'san matias', 'at-bashi', 'taltal', 'verkhnyaya pyshma', 'pau', 'arenapolis', 'polovinnoye', 'aswan', 'miandrivazo', 'abu samrah', 'rabo de peixe', 'mariel', 'vilcun', 'quelimane', 'ilam', 'ogre', 'schrobenhausen', 'maniitsoq', 'dekar', 'tawnat', 'miquelon', 'rio tercero', 'camana', 'comodoro rivadavia', 'brasilia', 'murud', 'ayagoz', 'sabzevar', 'soyo', 'maldonado', 'maraba', 'gurgan', 'mango', 'arlit', 'tabuk', 'coracora', 'carnarvon', 'nizhniy odes', 'diego de almagro', 'saint-ambroise', 'cheuskiny', 'bazaliya']\n"
     ]
    }
   ],
   "source": [
    "print(cities)"
   ]
  },
  {
   "cell_type": "code",
   "execution_count": null,
   "metadata": {},
   "outputs": [],
   "source": []
  }
 ],
 "metadata": {
  "kernelspec": {
   "display_name": "PythonData",
   "language": "python",
   "name": "pythondata"
  },
  "language_info": {
   "codemirror_mode": {
    "name": "ipython",
    "version": 3
   },
   "file_extension": ".py",
   "mimetype": "text/x-python",
   "name": "python",
   "nbconvert_exporter": "python",
   "pygments_lexer": "ipython3",
   "version": "3.7.7"
  }
 },
 "nbformat": 4,
 "nbformat_minor": 4
}
